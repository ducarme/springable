{
  "cells": [
    {
      "cell_type": "markdown",
      "id": "cfa72ee2-be82-45b5-a3f8-ac35ad32c399",
      "metadata": {
        "id": "cfa72ee2-be82-45b5-a3f8-ac35ad32c399"
      },
      "source": [
        "# An interactive example to quickly get started with `springable`\n",
        "The following interactive example will rapidly show you how to run a spring simulation using `springable`."
      ]
    },
    {
      "cell_type": "markdown",
      "id": "bded2e4a-c763-49dc-b2a5-d81245a4167d",
      "metadata": {
        "id": "bded2e4a-c763-49dc-b2a5-d81245a4167d"
      },
      "source": [
        "## Installation\n",
        "Let's make sure to first install the package `springable`. When you use `springable` locally, you'll have to first install it on your machine, by typing\n",
        "\n",
        "```python -m pip install springable```\n",
        "\n",
        "in the terminal. Make sure that the `python` command runs the version 3.10 of Python or a more recent one (>=3.10).\n",
        "\n",
        "In this online notebook however, installing the package is done by running the following line."
      ]
    },
    {
      "cell_type": "code",
      "execution_count": null,
      "id": "56abacbb-1129-41b4-a03a-46c80ab7c579",
      "metadata": {
        "id": "56abacbb-1129-41b4-a03a-46c80ab7c579"
      },
      "outputs": [],
      "source": [
        "!pip install springable"
      ]
    },
    {
      "cell_type": "markdown",
      "id": "bba652f0-22f5-4a04-9625-580e12b684b0",
      "metadata": {
        "id": "bba652f0-22f5-4a04-9625-580e12b684b0"
      },
      "source": [
        "## Running a simulation\n",
        "The first step is to create a [CSV file](https://en.wikipedia.org/wiki/Comma-separated_values), that is a text file saved with extension *.csv*, that describes the spring structure you're modelling. In this example, we will simulate two linear springs forming a little hat. Let's save this CSV file under the name `my_spring_hat.csv`.\n"
      ]
    },
    {
      "cell_type": "code",
      "execution_count": null,
      "id": "1b173e20-3da6-42df-ac20-07ed79921452",
      "metadata": {
        "colab": {
          "base_uri": "https://localhost:8080/"
        },
        "id": "1b173e20-3da6-42df-ac20-07ed79921452",
        "outputId": "a558d961-84e5-4eef-f0a6-c69c6eac6be6"
      },
      "outputs": [
        {
          "output_type": "stream",
          "name": "stdout",
          "text": [
            "Overwriting my_spring_hat.csv\n"
          ]
        }
      ],
      "source": [
        "%%writefile 'my_spring_hat.csv'\n",
        "\n",
        "NODES\n",
        "0, 0, 0, 1, 1\n",
        "1, 1, 0, 1, 1\n",
        "2, 0.5, 5.0, 1, 0\n",
        "SPRINGS\n",
        "0-2, 2.0\n",
        "1-2, 2.0\n",
        "LOADING\n",
        "2, Y, -5.0"
      ]
    },
    {
      "cell_type": "markdown",
      "id": "8aab7d75-e570-4b8b-a3cc-d1775a510278",
      "metadata": {
        "id": "8aab7d75-e570-4b8b-a3cc-d1775a510278"
      },
      "source": [
        "Next, we import the `springable.simulation` package"
      ]
    },
    {
      "cell_type": "code",
      "execution_count": null,
      "id": "699ce401-a3ac-462a-9d76-9bd4d7e2f775",
      "metadata": {
        "id": "699ce401-a3ac-462a-9d76-9bd4d7e2f775"
      },
      "outputs": [],
      "source": [
        "import springable.simulation as ss"
      ]
    },
    {
      "cell_type": "markdown",
      "id": "bbf95196-b6b2-4440-98fd-762370a28366",
      "metadata": {
        "id": "bbf95196-b6b2-4440-98fd-762370a28366"
      },
      "source": [
        "then call the `simulate_model()` function with the path to our spring-model CSV file as first argument, and the folder under which the result of the simulation will be saved, as second argument (it should not exist yet, the program will create it automatically)."
      ]
    },
    {
      "cell_type": "code",
      "execution_count": null,
      "id": "bbe7542b-8358-4d79-951c-94e99515e35b",
      "metadata": {
        "id": "bbe7542b-8358-4d79-951c-94e99515e35b"
      },
      "outputs": [],
      "source": [
        "ss.simulate_model('my_spring_hat.csv', 'result_of_spring_hat_simulation')"
      ]
    },
    {
      "cell_type": "markdown",
      "id": "7e78b4aa-9a4e-4515-9556-450799fb4bab",
      "metadata": {
        "id": "7e78b4aa-9a4e-4515-9556-450799fb4bab"
      },
      "source": [
        "## What is all this?\n",
        "As you can see, a lot of things happened.\n",
        "Three graphics have been generated\n",
        "<ol>\n",
        "  <li>a representation of the spring model you are about to simulate</li>\n",
        "  <li>the force-displacement curve of the structure</li>\n",
        "  <li>an animation which shows how the spring structure deforms when progressively loaded</li>\n",
        "</ol>\n",
        "\n",
        "These three graphics along with the result files are stored in a freshly-created folder named `result_of_spring_hat_simulation` (you should see it in the file tree on the left panel of this notebook).\n",
        "\n",
        "If you open this folder you'll see a lot of different files. The most important ones are the `displacements.csv` and `forces.csv` files. The `displacements.csv` file stores X- and Y-displacements of each node for all the equilibrium configurations calculated, while the `forces.csv` stores the external forces applied on each node along the X- and Y-directions"
      ]
    },
    {
      "cell_type": "code",
      "execution_count": null,
      "id": "4d625782-702e-4bdb-b8b4-d8521589ee73",
      "metadata": {
        "id": "4d625782-702e-4bdb-b8b4-d8521589ee73"
      },
      "outputs": [],
      "source": []
    }
  ],
  "metadata": {
    "kernelspec": {
      "display_name": "Python 3 (ipykernel)",
      "language": "python",
      "name": "python3"
    },
    "language_info": {
      "codemirror_mode": {
        "name": "ipython",
        "version": 3
      },
      "file_extension": ".py",
      "mimetype": "text/x-python",
      "name": "python",
      "nbconvert_exporter": "python",
      "pygments_lexer": "ipython3",
      "version": "3.12.4"
    },
    "colab": {
      "provenance": []
    }
  },
  "nbformat": 4,
  "nbformat_minor": 5
}